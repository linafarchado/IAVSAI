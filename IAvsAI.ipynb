{
 "cells": [
  {
   "cell_type": "markdown",
   "metadata": {},
   "source": [
    "## Tutoriel : interagir avec le système de stockage S3 du SSP Cloud (MinIO)"
   ]
  },
  {
   "cell_type": "code",
   "execution_count": 3,
   "metadata": {},
   "outputs": [],
   "source": [
    "import os\n",
    "\n",
    "import pandas as pd\n",
    "import s3fs\n",
    "import zipfile"
   ]
  },
  {
   "cell_type": "markdown",
   "metadata": {},
   "source": [
    "### Récupérer les données d'un challenge"
   ]
  },
  {
   "cell_type": "code",
   "execution_count": 4,
   "metadata": {},
   "outputs": [
    {
     "data": {
      "text/plain": [
       "['gvimont/diffusion/hackathon-minarm-2024/AIVSAI/.keep',\n",
       " 'gvimont/diffusion/hackathon-minarm-2024/AIVSAI/HC3.zip']"
      ]
     },
     "execution_count": 4,
     "metadata": {},
     "output_type": "execute_result"
    }
   ],
   "source": [
    "# Create filesystem object\n",
    "S3_ENDPOINT_URL = \"https://\" + os.environ[\"AWS_S3_ENDPOINT\"]\n",
    "fs = s3fs.S3FileSystem(client_kwargs={'endpoint_url': S3_ENDPOINT_URL})\n",
    "\n",
    "# Lister les challenges\n",
    "#fs.ls(\"gvimont/diffusion/hackathon-minarm-2024\")\n",
    "\n",
    "# Lister les fichiers d'un challenge\n",
    "fs.ls(\"gvimont/diffusion/hackathon-minarm-2024/AIVSAI\")"
   ]
  },
  {
   "cell_type": "code",
   "execution_count": 5,
   "metadata": {},
   "outputs": [],
   "source": [
    "# Télécharger les données dans le service\n",
    "PATH_IN = 'gvimont/diffusion/hackathon-minarm-2024/AIVSAI/HC3.zip'\n",
    "fs.download(PATH_IN, 'data/HC3.zip')\n",
    "\n",
    "# Décompresser les données\n",
    "with zipfile.ZipFile(\"data/HC3.zip\",\"r\") as zip_file:\n",
    "    zip_file.extractall(\"data/\")"
   ]
  },
  {
   "cell_type": "markdown",
   "metadata": {},
   "source": [
    "NB : les données peuvent être également téléchargées directement si besoin, pour être utilisées hors du SSP CLoud.\n",
    "Exemple pour le fichier ci-dessus (même format de lien pour les autres challenges) : \n",
    "\n",
    "http://minio.lab.sspcloud.fr/gvimont/diffusion/hackathon-minarm-2024/AIVSAI/HC3.zip"
   ]
  },
  {
   "cell_type": "markdown",
   "metadata": {},
   "source": [
    "### Exporter des données"
   ]
  },
  {
   "cell_type": "code",
   "execution_count": 6,
   "metadata": {},
   "outputs": [
    {
     "data": {
      "text/html": [
       "<div>\n",
       "<style scoped>\n",
       "    .dataframe tbody tr th:only-of-type {\n",
       "        vertical-align: middle;\n",
       "    }\n",
       "\n",
       "    .dataframe tbody tr th {\n",
       "        vertical-align: top;\n",
       "    }\n",
       "\n",
       "    .dataframe thead th {\n",
       "        text-align: right;\n",
       "    }\n",
       "</style>\n",
       "<table border=\"1\" class=\"dataframe\">\n",
       "  <thead>\n",
       "    <tr style=\"text-align: right;\">\n",
       "      <th></th>\n",
       "      <th>question</th>\n",
       "      <th>human_answers</th>\n",
       "      <th>chatgpt_answers</th>\n",
       "      <th>source</th>\n",
       "    </tr>\n",
       "  </thead>\n",
       "  <tbody>\n",
       "    <tr>\n",
       "      <th>0</th>\n",
       "      <td>Does Primolut N taken during pregnancy affect ...</td>\n",
       "      <td>[Hi,     Thanks for the query. I understand yo...</td>\n",
       "      <td>[It is not recommended to use Primolut N durin...</td>\n",
       "      <td>medicine</td>\n",
       "    </tr>\n",
       "    <tr>\n",
       "      <th>1</th>\n",
       "      <td>Bloating and pain on right lower abdomen. Shou...</td>\n",
       "      <td>[Hello,Thanks for the query to H.C.M. Forum.Pa...</td>\n",
       "      <td>[If you are experiencing abdominal pain and bl...</td>\n",
       "      <td>medicine</td>\n",
       "    </tr>\n",
       "    <tr>\n",
       "      <th>2</th>\n",
       "      <td>Is chest pain related to intake of clindamycin...</td>\n",
       "      <td>[Hello, The use of Clindamycin can cause stoma...</td>\n",
       "      <td>[It is possible that chest pain could be relat...</td>\n",
       "      <td>medicine</td>\n",
       "    </tr>\n",
       "    <tr>\n",
       "      <th>3</th>\n",
       "      <td>Q. Noticed a yellowish sag in the gums of my 1...</td>\n",
       "      <td>[Hello. Revert back with the photos to a denti...</td>\n",
       "      <td>[It is difficult to accurately diagnose a cond...</td>\n",
       "      <td>medicine</td>\n",
       "    </tr>\n",
       "    <tr>\n",
       "      <th>4</th>\n",
       "      <td>Suggest remedy for low grade fever, hot and co...</td>\n",
       "      <td>[Hi Dear,Welcome to Healthcaremagic Team.Under...</td>\n",
       "      <td>[I'm sorry to hear that you're feeling sick. I...</td>\n",
       "      <td>medicine</td>\n",
       "    </tr>\n",
       "    <tr>\n",
       "      <th>...</th>\n",
       "      <td>...</td>\n",
       "      <td>...</td>\n",
       "      <td>...</td>\n",
       "      <td>...</td>\n",
       "    </tr>\n",
       "    <tr>\n",
       "      <th>7205</th>\n",
       "      <td>Please explain what is \"Punched cards\"</td>\n",
       "      <td>[A punched card (also punch card or punched-ca...</td>\n",
       "      <td>[Punched cards were a means of storing and pro...</td>\n",
       "      <td>wiki_csai</td>\n",
       "    </tr>\n",
       "    <tr>\n",
       "      <th>7206</th>\n",
       "      <td>Please explain what is \"Paper tape\"</td>\n",
       "      <td>[Punched tape or perforated paper tape is a fo...</td>\n",
       "      <td>[Paper tape is a medium for storing and transm...</td>\n",
       "      <td>wiki_csai</td>\n",
       "    </tr>\n",
       "    <tr>\n",
       "      <th>7207</th>\n",
       "      <td>Please explain what is \"BBC Model B\"</td>\n",
       "      <td>[The British Broadcasting Corporation Microcom...</td>\n",
       "      <td>[The BBC Model B is a computer that was made b...</td>\n",
       "      <td>wiki_csai</td>\n",
       "    </tr>\n",
       "    <tr>\n",
       "      <th>7208</th>\n",
       "      <td>Please explain what is \"O level\"</td>\n",
       "      <td>[The O-Level (Ordinary Level) is a subject-bas...</td>\n",
       "      <td>[\"O level\" refers to the General Certificate o...</td>\n",
       "      <td>wiki_csai</td>\n",
       "    </tr>\n",
       "    <tr>\n",
       "      <th>7209</th>\n",
       "      <td>Please explain what is \"A level\"</td>\n",
       "      <td>[The A-Level (Advanced Level) is a subject-bas...</td>\n",
       "      <td>[A level, or Advanced level, is a qualificatio...</td>\n",
       "      <td>wiki_csai</td>\n",
       "    </tr>\n",
       "  </tbody>\n",
       "</table>\n",
       "<p>7210 rows × 4 columns</p>\n",
       "</div>"
      ],
      "text/plain": [
       "                                               question  \\\n",
       "0     Does Primolut N taken during pregnancy affect ...   \n",
       "1     Bloating and pain on right lower abdomen. Shou...   \n",
       "2     Is chest pain related to intake of clindamycin...   \n",
       "3     Q. Noticed a yellowish sag in the gums of my 1...   \n",
       "4     Suggest remedy for low grade fever, hot and co...   \n",
       "...                                                 ...   \n",
       "7205             Please explain what is \"Punched cards\"   \n",
       "7206                Please explain what is \"Paper tape\"   \n",
       "7207               Please explain what is \"BBC Model B\"   \n",
       "7208                   Please explain what is \"O level\"   \n",
       "7209                   Please explain what is \"A level\"   \n",
       "\n",
       "                                          human_answers  \\\n",
       "0     [Hi,     Thanks for the query. I understand yo...   \n",
       "1     [Hello,Thanks for the query to H.C.M. Forum.Pa...   \n",
       "2     [Hello, The use of Clindamycin can cause stoma...   \n",
       "3     [Hello. Revert back with the photos to a denti...   \n",
       "4     [Hi Dear,Welcome to Healthcaremagic Team.Under...   \n",
       "...                                                 ...   \n",
       "7205  [A punched card (also punch card or punched-ca...   \n",
       "7206  [Punched tape or perforated paper tape is a fo...   \n",
       "7207  [The British Broadcasting Corporation Microcom...   \n",
       "7208  [The O-Level (Ordinary Level) is a subject-bas...   \n",
       "7209  [The A-Level (Advanced Level) is a subject-bas...   \n",
       "\n",
       "                                        chatgpt_answers     source  \n",
       "0     [It is not recommended to use Primolut N durin...   medicine  \n",
       "1     [If you are experiencing abdominal pain and bl...   medicine  \n",
       "2     [It is possible that chest pain could be relat...   medicine  \n",
       "3     [It is difficult to accurately diagnose a cond...   medicine  \n",
       "4     [I'm sorry to hear that you're feeling sick. I...   medicine  \n",
       "...                                                 ...        ...  \n",
       "7205  [Punched cards were a means of storing and pro...  wiki_csai  \n",
       "7206  [Paper tape is a medium for storing and transm...  wiki_csai  \n",
       "7207  [The BBC Model B is a computer that was made b...  wiki_csai  \n",
       "7208  [\"O level\" refers to the General Certificate o...  wiki_csai  \n",
       "7209  [A level, or Advanced level, is a qualificatio...  wiki_csai  \n",
       "\n",
       "[7210 rows x 4 columns]"
      ]
     },
     "execution_count": 6,
     "metadata": {},
     "output_type": "execute_result"
    }
   ],
   "source": [
    "def load_jsonl_files():\n",
    "    directory = 'data/HC3'\n",
    "\n",
    "    # Get a list of all .jsonl files in the directory, excluding all.jsonl and reddit_eli5.jsonl\n",
    "    jsonl_files = [file for file in os.listdir(directory) if file.endswith('.jsonl') and file not in ['all.jsonl', 'reddit_eli5.jsonl']]\n",
    "\n",
    "    \n",
    "    # Add data in dataframe\n",
    "    dfs = pd.DataFrame()\n",
    "    for file in jsonl_files:\n",
    "        file_path = os.path.join(directory, file)\n",
    "        df = pd.read_json(file_path, lines=True)\n",
    "        \n",
    "        # Add a new column with the source file name\n",
    "        df['source'] = file[:-6]\n",
    "        \n",
    "        # Concatenate to DataFrame\n",
    "        dfs = pd.concat([dfs, df], ignore_index=True)\n",
    "    \n",
    "    return dfs\n",
    "\n",
    "df = load_jsonl_files()\n",
    "df\n"
   ]
  },
  {
   "cell_type": "markdown",
   "metadata": {},
   "source": [
    "### Clean questions"
   ]
  },
  {
   "cell_type": "code",
   "execution_count": 7,
   "metadata": {},
   "outputs": [],
   "source": [
    "def clean_question(question):\n",
    "    # Remove if question starts with 'Q.'\n",
    "    return question[3:].strip() if question[:3] == 'Q. ' else question\n",
    "\n",
    "def clean_questions(df):\n",
    "    df_cleaned = df.copy()\n",
    "    \n",
    "    df_cleaned['question'] = df_cleaned['question'].apply(lambda x: clean_question(x))\n",
    "    \n",
    "    return df_cleaned"
   ]
  },
  {
   "cell_type": "markdown",
   "metadata": {},
   "source": [
    "### Clean Answers"
   ]
  },
  {
   "cell_type": "code",
   "execution_count": 8,
   "metadata": {},
   "outputs": [],
   "source": [
    "def clean_answer(answer):\n",
    "    # Transform list answer into string\n",
    "    return ' '.join(answer) if isinstance(answer, list) else answer\n",
    "\n",
    "def clean_answers(df):\n",
    "    df_cleaned = df.copy()\n",
    "    \n",
    "    df_cleaned['human_answers'] = df_cleaned['human_answers'].apply(lambda x: clean_answer(x))\n",
    "    df_cleaned['chatgpt_answers'] = df_cleaned['chatgpt_answers'].apply(lambda x: clean_answer(x))\n",
    "    \n",
    "    return df_cleaned"
   ]
  },
  {
   "cell_type": "markdown",
   "metadata": {},
   "source": [
    "### Clean Dataframe"
   ]
  },
  {
   "cell_type": "code",
   "execution_count": 9,
   "metadata": {},
   "outputs": [],
   "source": [
    "def clean_dataframe(df):\n",
    "    df = clean_answers(df)\n",
    "    df = df.drop_duplicates()\n",
    "    df = clean_questions(df)\n",
    "    df = df.dropna()\n",
    "    return df"
   ]
  },
  {
   "cell_type": "code",
   "execution_count": 10,
   "metadata": {},
   "outputs": [
    {
     "data": {
      "text/html": [
       "<div>\n",
       "<style scoped>\n",
       "    .dataframe tbody tr th:only-of-type {\n",
       "        vertical-align: middle;\n",
       "    }\n",
       "\n",
       "    .dataframe tbody tr th {\n",
       "        vertical-align: top;\n",
       "    }\n",
       "\n",
       "    .dataframe thead th {\n",
       "        text-align: right;\n",
       "    }\n",
       "</style>\n",
       "<table border=\"1\" class=\"dataframe\">\n",
       "  <thead>\n",
       "    <tr style=\"text-align: right;\">\n",
       "      <th></th>\n",
       "      <th>question</th>\n",
       "      <th>human_answers</th>\n",
       "      <th>chatgpt_answers</th>\n",
       "      <th>source</th>\n",
       "    </tr>\n",
       "  </thead>\n",
       "  <tbody>\n",
       "    <tr>\n",
       "      <th>0</th>\n",
       "      <td>Does Primolut N taken during pregnancy affect ...</td>\n",
       "      <td>Hi,     Thanks for the query. I understand you...</td>\n",
       "      <td>It is not recommended to use Primolut N during...</td>\n",
       "      <td>medicine</td>\n",
       "    </tr>\n",
       "    <tr>\n",
       "      <th>1</th>\n",
       "      <td>Bloating and pain on right lower abdomen. Shou...</td>\n",
       "      <td>Hello,Thanks for the query to H.C.M. Forum.Pai...</td>\n",
       "      <td>If you are experiencing abdominal pain and blo...</td>\n",
       "      <td>medicine</td>\n",
       "    </tr>\n",
       "    <tr>\n",
       "      <th>2</th>\n",
       "      <td>Is chest pain related to intake of clindamycin...</td>\n",
       "      <td>Hello, The use of Clindamycin can cause stomac...</td>\n",
       "      <td>It is possible that chest pain could be relate...</td>\n",
       "      <td>medicine</td>\n",
       "    </tr>\n",
       "    <tr>\n",
       "      <th>3</th>\n",
       "      <td>Noticed a yellowish sag in the gums of my 13 m...</td>\n",
       "      <td>Hello. Revert back with the photos to a dentis...</td>\n",
       "      <td>It is difficult to accurately diagnose a condi...</td>\n",
       "      <td>medicine</td>\n",
       "    </tr>\n",
       "    <tr>\n",
       "      <th>4</th>\n",
       "      <td>Suggest remedy for low grade fever, hot and co...</td>\n",
       "      <td>Hi Dear,Welcome to Healthcaremagic Team.Unders...</td>\n",
       "      <td>I'm sorry to hear that you're feeling sick. It...</td>\n",
       "      <td>medicine</td>\n",
       "    </tr>\n",
       "    <tr>\n",
       "      <th>...</th>\n",
       "      <td>...</td>\n",
       "      <td>...</td>\n",
       "      <td>...</td>\n",
       "      <td>...</td>\n",
       "    </tr>\n",
       "    <tr>\n",
       "      <th>7205</th>\n",
       "      <td>Please explain what is \"Punched cards\"</td>\n",
       "      <td>A punched card (also punch card or punched-car...</td>\n",
       "      <td>Punched cards were a means of storing and proc...</td>\n",
       "      <td>wiki_csai</td>\n",
       "    </tr>\n",
       "    <tr>\n",
       "      <th>7206</th>\n",
       "      <td>Please explain what is \"Paper tape\"</td>\n",
       "      <td>Punched tape or perforated paper tape is a for...</td>\n",
       "      <td>Paper tape is a medium for storing and transmi...</td>\n",
       "      <td>wiki_csai</td>\n",
       "    </tr>\n",
       "    <tr>\n",
       "      <th>7207</th>\n",
       "      <td>Please explain what is \"BBC Model B\"</td>\n",
       "      <td>The British Broadcasting Corporation Microcomp...</td>\n",
       "      <td>The BBC Model B is a computer that was made by...</td>\n",
       "      <td>wiki_csai</td>\n",
       "    </tr>\n",
       "    <tr>\n",
       "      <th>7208</th>\n",
       "      <td>Please explain what is \"O level\"</td>\n",
       "      <td>The O-Level (Ordinary Level) is a subject-base...</td>\n",
       "      <td>\"O level\" refers to the General Certificate of...</td>\n",
       "      <td>wiki_csai</td>\n",
       "    </tr>\n",
       "    <tr>\n",
       "      <th>7209</th>\n",
       "      <td>Please explain what is \"A level\"</td>\n",
       "      <td>The A-Level (Advanced Level) is a subject-base...</td>\n",
       "      <td>A level, or Advanced level, is a qualification...</td>\n",
       "      <td>wiki_csai</td>\n",
       "    </tr>\n",
       "  </tbody>\n",
       "</table>\n",
       "<p>7210 rows × 4 columns</p>\n",
       "</div>"
      ],
      "text/plain": [
       "                                               question  \\\n",
       "0     Does Primolut N taken during pregnancy affect ...   \n",
       "1     Bloating and pain on right lower abdomen. Shou...   \n",
       "2     Is chest pain related to intake of clindamycin...   \n",
       "3     Noticed a yellowish sag in the gums of my 13 m...   \n",
       "4     Suggest remedy for low grade fever, hot and co...   \n",
       "...                                                 ...   \n",
       "7205             Please explain what is \"Punched cards\"   \n",
       "7206                Please explain what is \"Paper tape\"   \n",
       "7207               Please explain what is \"BBC Model B\"   \n",
       "7208                   Please explain what is \"O level\"   \n",
       "7209                   Please explain what is \"A level\"   \n",
       "\n",
       "                                          human_answers  \\\n",
       "0     Hi,     Thanks for the query. I understand you...   \n",
       "1     Hello,Thanks for the query to H.C.M. Forum.Pai...   \n",
       "2     Hello, The use of Clindamycin can cause stomac...   \n",
       "3     Hello. Revert back with the photos to a dentis...   \n",
       "4     Hi Dear,Welcome to Healthcaremagic Team.Unders...   \n",
       "...                                                 ...   \n",
       "7205  A punched card (also punch card or punched-car...   \n",
       "7206  Punched tape or perforated paper tape is a for...   \n",
       "7207  The British Broadcasting Corporation Microcomp...   \n",
       "7208  The O-Level (Ordinary Level) is a subject-base...   \n",
       "7209  The A-Level (Advanced Level) is a subject-base...   \n",
       "\n",
       "                                        chatgpt_answers     source  \n",
       "0     It is not recommended to use Primolut N during...   medicine  \n",
       "1     If you are experiencing abdominal pain and blo...   medicine  \n",
       "2     It is possible that chest pain could be relate...   medicine  \n",
       "3     It is difficult to accurately diagnose a condi...   medicine  \n",
       "4     I'm sorry to hear that you're feeling sick. It...   medicine  \n",
       "...                                                 ...        ...  \n",
       "7205  Punched cards were a means of storing and proc...  wiki_csai  \n",
       "7206  Paper tape is a medium for storing and transmi...  wiki_csai  \n",
       "7207  The BBC Model B is a computer that was made by...  wiki_csai  \n",
       "7208  \"O level\" refers to the General Certificate of...  wiki_csai  \n",
       "7209  A level, or Advanced level, is a qualification...  wiki_csai  \n",
       "\n",
       "[7210 rows x 4 columns]"
      ]
     },
     "execution_count": 10,
     "metadata": {},
     "output_type": "execute_result"
    }
   ],
   "source": [
    "df = clean_dataframe(df)\n",
    "df"
   ]
  },
  {
   "cell_type": "code",
   "execution_count": 11,
   "metadata": {},
   "outputs": [],
   "source": [
    "# Export vers un bucket personnel\n",
    "PATH_OUT = 'linafarchado/diffusion/projet-mongroupe-hackathon/all_dataset.csv'\n",
    "with fs.open(PATH_OUT, 'w') as file_out:\n",
    "    df.to_csv(file_out, index=False)"
   ]
  },
  {
   "cell_type": "code",
   "execution_count": 12,
   "metadata": {},
   "outputs": [
    {
     "data": {
      "text/plain": [
       "['linafarchado/diffusion/projet-mongroupe-hackathon/all_dataset.csv',\n",
       " 'linafarchado/diffusion/projet-mongroupe-hackathon/medicine.csv']"
      ]
     },
     "execution_count": 12,
     "metadata": {},
     "output_type": "execute_result"
    }
   ],
   "source": [
    "# NB : le dossier 'diffusion' permet un accès en lecture à tous les membres du groupe !\n",
    "# Tous les membres peuvent donc le voir et l'utiliser dans un service\n",
    "fs.ls(\"linafarchado/diffusion/projet-mongroupe-hackathon\")"
   ]
  },
  {
   "cell_type": "code",
   "execution_count": 13,
   "metadata": {},
   "outputs": [],
   "source": [
    "with fs.open(PATH_OUT, mode=\"r\") as file_in:\n",
    "    df_test = pd.read_csv(file_in)"
   ]
  },
  {
   "cell_type": "code",
   "execution_count": 14,
   "metadata": {},
   "outputs": [
    {
     "data": {
      "text/html": [
       "<div>\n",
       "<style scoped>\n",
       "    .dataframe tbody tr th:only-of-type {\n",
       "        vertical-align: middle;\n",
       "    }\n",
       "\n",
       "    .dataframe tbody tr th {\n",
       "        vertical-align: top;\n",
       "    }\n",
       "\n",
       "    .dataframe thead th {\n",
       "        text-align: right;\n",
       "    }\n",
       "</style>\n",
       "<table border=\"1\" class=\"dataframe\">\n",
       "  <thead>\n",
       "    <tr style=\"text-align: right;\">\n",
       "      <th></th>\n",
       "      <th>question</th>\n",
       "      <th>human_answers</th>\n",
       "      <th>chatgpt_answers</th>\n",
       "      <th>source</th>\n",
       "    </tr>\n",
       "  </thead>\n",
       "  <tbody>\n",
       "    <tr>\n",
       "      <th>0</th>\n",
       "      <td>Does Primolut N taken during pregnancy affect ...</td>\n",
       "      <td>Hi,     Thanks for the query. I understand you...</td>\n",
       "      <td>It is not recommended to use Primolut N during...</td>\n",
       "      <td>medicine</td>\n",
       "    </tr>\n",
       "    <tr>\n",
       "      <th>1</th>\n",
       "      <td>Bloating and pain on right lower abdomen. Shou...</td>\n",
       "      <td>Hello,Thanks for the query to H.C.M. Forum.Pai...</td>\n",
       "      <td>If you are experiencing abdominal pain and blo...</td>\n",
       "      <td>medicine</td>\n",
       "    </tr>\n",
       "    <tr>\n",
       "      <th>2</th>\n",
       "      <td>Is chest pain related to intake of clindamycin...</td>\n",
       "      <td>Hello, The use of Clindamycin can cause stomac...</td>\n",
       "      <td>It is possible that chest pain could be relate...</td>\n",
       "      <td>medicine</td>\n",
       "    </tr>\n",
       "    <tr>\n",
       "      <th>3</th>\n",
       "      <td>Noticed a yellowish sag in the gums of my 13 m...</td>\n",
       "      <td>Hello. Revert back with the photos to a dentis...</td>\n",
       "      <td>It is difficult to accurately diagnose a condi...</td>\n",
       "      <td>medicine</td>\n",
       "    </tr>\n",
       "    <tr>\n",
       "      <th>4</th>\n",
       "      <td>Suggest remedy for low grade fever, hot and co...</td>\n",
       "      <td>Hi Dear,Welcome to Healthcaremagic Team.Unders...</td>\n",
       "      <td>I'm sorry to hear that you're feeling sick. It...</td>\n",
       "      <td>medicine</td>\n",
       "    </tr>\n",
       "  </tbody>\n",
       "</table>\n",
       "</div>"
      ],
      "text/plain": [
       "                                            question  \\\n",
       "0  Does Primolut N taken during pregnancy affect ...   \n",
       "1  Bloating and pain on right lower abdomen. Shou...   \n",
       "2  Is chest pain related to intake of clindamycin...   \n",
       "3  Noticed a yellowish sag in the gums of my 13 m...   \n",
       "4  Suggest remedy for low grade fever, hot and co...   \n",
       "\n",
       "                                       human_answers  \\\n",
       "0  Hi,     Thanks for the query. I understand you...   \n",
       "1  Hello,Thanks for the query to H.C.M. Forum.Pai...   \n",
       "2  Hello, The use of Clindamycin can cause stomac...   \n",
       "3  Hello. Revert back with the photos to a dentis...   \n",
       "4  Hi Dear,Welcome to Healthcaremagic Team.Unders...   \n",
       "\n",
       "                                     chatgpt_answers    source  \n",
       "0  It is not recommended to use Primolut N during...  medicine  \n",
       "1  If you are experiencing abdominal pain and blo...  medicine  \n",
       "2  It is possible that chest pain could be relate...  medicine  \n",
       "3  It is difficult to accurately diagnose a condi...  medicine  \n",
       "4  I'm sorry to hear that you're feeling sick. It...  medicine  "
      ]
     },
     "execution_count": 14,
     "metadata": {},
     "output_type": "execute_result"
    }
   ],
   "source": [
    "df_test.head()"
   ]
  },
  {
   "cell_type": "markdown",
   "metadata": {},
   "source": [
    "# Tokenizer"
   ]
  },
  {
   "cell_type": "code",
   "execution_count": null,
   "metadata": {},
   "outputs": [],
   "source": [
    "whole_doc = \" \".join(df_test['human_answers'])"
   ]
  },
  {
   "cell_type": "code",
   "execution_count": 2,
   "metadata": {},
   "outputs": [],
   "source": [
    "def nltk_tokenize(doc: str) -> list[str]:\n",
    "    return word_tokenize(doc)\n",
    "\n",
    "def gpt_tokenize(doc: str) -> list:\n",
    "    enc = tiktoken.encoding_for_model(\"gpt-4\")\n",
    "    tokens = enc.encode(doc)\n",
    "    return [str(token) for token in tokens]"
   ]
  },
  {
   "cell_type": "code",
   "execution_count": null,
   "metadata": {},
   "outputs": [],
   "source": [
    "def tokenize(doc: str, base_tokenizer=word_tokenize, do_lower=False, do_remove_stop_word=False, custom_stop_words=[], do_lemmatize=False) -> tuple[list,list]:\n",
    "    if do_lower:\n",
    "        doc = doc.lower()\n",
    "    list_token = base_tokenizer(doc)\n",
    "\n",
    "    if do_remove_stop_word:\n",
    "        stop_words = en_stop | set(\"-.!?()_;:,'\") | {'...'} | set(custom_stop_words) \n",
    "        list_token = [token for token in list_token if token not in stop_words]\n",
    "        \n",
    "    if do_lemmatize:\n",
    "        wnl = WordNetLemmatizer()\n",
    "        list_token = [wnl.lemmatize(t) for t in list_token]\n",
    "\n",
    "    return list_token\n",
    "\n",
    "def use_tokenizer(tokenizer, base_tokenizer=word_tokenize):\n",
    "    return tokenizer\n",
    "\n",
    "def remove_stop_words(custom_stop_words):\n",
    "    return custom_stop_words\n",
    "\n",
    "def add_stop_words(words, custom_stop_words):\n",
    "    custom_stop_words.extend(words)\n",
    "    return custom_stop_words\n",
    "\n",
    "def lower():\n",
    "    return True\n",
    "\n",
    "def lemmatize():\n",
    "    return True"
   ]
  },
  {
   "cell_type": "code",
   "execution_count": null,
   "metadata": {},
   "outputs": [],
   "source": [
    "custom_stop_words = []\n",
    "list_token = tokenize(whole_doc, do_lower=True, do_remove_stop_word=True, custom_stop_words=custom_stop_words)\n",
    "vocab = set(list_token)\n",
    "occ = { token : list_token.count(token) for token in vocab }\n",
    "sorted(occ.items(), key = lambda x : x[1], reverse=True)[:10]"
   ]
  }
 ],
 "metadata": {
  "kernelspec": {
   "display_name": "Python 3 (ipykernel)",
   "language": "python",
   "name": "python3"
  },
  "language_info": {
   "codemirror_mode": {
    "name": "ipython",
    "version": 3
   },
   "file_extension": ".py",
   "mimetype": "text/x-python",
   "name": "python",
   "nbconvert_exporter": "python",
   "pygments_lexer": "ipython3",
   "version": "3.10.12"
  }
 },
 "nbformat": 4,
 "nbformat_minor": 2
}
